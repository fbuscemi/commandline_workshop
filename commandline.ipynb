{
 "cells": [
  {
   "cell_type": "markdown",
   "metadata": {},
   "source": [
    "# Working with the Command Line\n",
    "\n",
    "![alt text](symbol.jpg)\n"
   ]
  },
  {
   "cell_type": "markdown",
   "metadata": {},
   "source": [
    "## Unix Systems (POSIX)\n",
    "\n",
    "- Linux\n",
    "- Apple/Mac\n",
    "- Raspberry Pi"
   ]
  },
  {
   "cell_type": "markdown",
   "metadata": {},
   "source": [
    "### Basics\n",
    "\n",
    "A __terminal__ is a program that offers a window with a command line.\n",
    "\n",
    "A __shell__ is a program that lets the user enter commands \n",
    "\n",
    "The shell __prompt__ is the main interface. \n",
    "It normally shows the computer name and the working directory (but that's configurable \n",
    "and may look different on your machine).\n",
    "\n",
    "![lala](terminal.jpg)"
   ]
  },
  {
   "cell_type": "markdown",
   "metadata": {},
   "source": [
    "#### Excercise\n",
    "\n",
    "- Open a terminal on your (linux) computer\n",
    "- If you live on Windows and haven't installed WSL yet, use an online terminal: \n",
    "  https://bellard.org/jslinux/vm.html?url=alpine-x86.cfg&mem=192\n",
    "- Run a program: type `date` at the command prompt and `<ENTER>`\n",
    "\n",
    "Another small program: `echo`\n",
    "\n",
    "- `echo` takes an argument and prints out that argument. Similar to the  `print()` function in python."
   ]
  },
  {
   "cell_type": "markdown",
   "metadata": {},
   "source": [
    "### Navigating in the file system\n",
    "\n",
    "* In a Linux (POSIX) system, all ressources can be addressed via the file system. \n",
    "* The file system has one __root__ (`/`), while Windows systems have one root per hard disk (`C:\\`)\n",
    "* Each user has a __home directory__, usually under `/home/<username>`\n",
    "* `~` is an alias for your home directory.\n",
    "* When using the shell, you are always in a __working directory__.\n",
    "\n",
    "`pwd`: prints the current, working directory\n",
    "\n",
    "`ls`: shows the content of the current directory\n",
    "\n",
    "`ls <dirname>`: lists the content of `<dirname>` \n",
    "\n",
    "`cd <dirname>`: changes the working directory to `<dirname>` \n",
    "\n",
    "`cd` brings you back to your home directory. Same as `cd ~`\n",
    "\n",
    "\n",
    "\n",
    "##### Shortcuts for directories\n",
    "\n",
    "`.` stands for the current directory\n",
    "\n",
    "`..` stands for the parent directory\n",
    "\n",
    "`/` is the root directory\n",
    "\n",
    "`~` is your home directory"
   ]
  },
  {
   "cell_type": "markdown",
   "metadata": {},
   "source": [
    "#### Exercises\n",
    "\n",
    "1. print your current working directory\n",
    "1. list it's contents\n",
    "1. go to the root directory\n",
    "1. list it's contents\n",
    "1. go to `/usr/bin`\n",
    "1. go one directory up\n",
    "1. list the contents of yout home directory\n",
    "2. look where you are\n",
    "1. go to your home directory\n"
   ]
  },
  {
   "cell_type": "markdown",
   "metadata": {},
   "source": [
    "### Less typing\n",
    "\n",
    "* with the `<up>` and `<down>` keys you can cycle through the command history\n",
    "* Use __tab completion__: enter the first character of the command or path, then press `<TAB>`.\n",
    "  If unambiguous, this automatically completes the command or path; otherwise it suggests possible\n",
    "  completions. Often, it's sufficient to enter a few more characters for tab completion to succeed.\n",
    "  \n",
    "  \n",
    "##### Exercises\n",
    "\n",
    "* move around, try tab completion and use up/down keys"
   ]
  },
  {
   "cell_type": "markdown",
   "metadata": {},
   "source": [
    "### Command line options\n",
    "\n",
    "Most unix programs have __command line options__ that allow \n",
    "you to modify the behaviour.\n",
    "\n",
    "##### Exercise\n",
    "2. try out `ls -l`. What's the difference to `ls`?\n",
    "3. try out `ls -la`. Again, what's the difference?"
   ]
  },
  {
   "cell_type": "markdown",
   "metadata": {},
   "source": [
    "### Getting help\n",
    "\n",
    "* Most unix commands provide a short help message\n",
    "* enter the command followed by `--help`\n",
    "* e.g. `ls --help` prints out the help message for the `ls` command. You see a lot of options there. \n",
    "\n",
    "More help is available in the __man(ual) pages__. Enter `man <command>` to get a detailed description \n",
    "for the command.\n",
    "\n",
    "##### Exercise\n",
    "\n",
    "1. print the help message for the ls command. Compare with what you saw in the last exercise.\n",
    "2. Try different options\n",
    "3. show the help messages of other commands\n",
    "4. open the man pages for some of the commands you have seen so far."
   ]
  },
  {
   "cell_type": "markdown",
   "metadata": {},
   "source": [
    "### Working on files\n",
    "\n",
    "`cp <source> <target>`: copy a file from _source_ to _target_ (creates a duplicate)\n",
    "\n",
    "`cp <source> <target>`: moves a file from _source_ to _target_ (deletes the source) -> __renames a file__\n",
    "\n",
    "`mkdir <dirname>`: create a directory\n",
    "\n",
    "`rmdir <dirname>`: delete an empty directory\n",
    "\n",
    "`rm <filename>`: delete a file\n",
    "\n",
    "`rm -rf <dirname>`: delete a directory, all files and subdirectories in it, without asking.\n",
    "\n",
    "\n",
    "### Using wildcards\n",
    "\n",
    "cp, rm etc. also work on multiple files! With `cp a.txt b.txt c.txt somedir` you copy \n",
    "the three files to a target directory.\n",
    "\n",
    "Instead of naming all filenames, it's often easier to select the files by patterns (_wildcards_):\n",
    "\n",
    "- `cp *.jpg ~/images` ... copies all jpg files from the current directory to _images_ subdirectory of your home.\n",
    "- `rm *.xlsx` ... remove all excel files\n",
    "- `cp lala_???.txt ~/tmp` ... copies all files like lala_123.txt, lala_xyz.txt, ....\n",
    "\n",
    "`*` ... stands for any number of characters\n",
    "\n",
    "`?` ... stands for exactly one character\n",
    "\n",
    "### Redirections\n",
    "\n",
    "Many programs output some text on the console (like echo, or ls).\n",
    "\n",
    "You can redirect the output of a program into a file using the `>`, `<`, `>>`, and `|` operators: \n",
    "\n",
    "`echo moin` prints out \"moin\"\n",
    "\n",
    "`echo moin > moin.txt` writes \"moin\" into a file \"moin.txt\" (overwrites if exists!)\n",
    "\n",
    "`echo moin >> moin.txt` appends \"moin\" to a file \"moin.txt\" (creates new file of it did not exist)\n",
    "\n",
    "With the pipe symbol `|`, you can chain the output from one program the input of another\n",
    "\n",
    "\n",
    "### Viewing text files\n",
    "\n",
    "`cat <filename>` ... prints content to screen\n",
    "\n",
    "`head <filename>` ... prints first few lines to screen\n",
    "\n",
    "`tail <filename>` ... prints tail few lines to screen\n",
    "\n",
    "`more <filename>` ... prints file screen-wise (lets you scroll)\n"
   ]
  },
  {
   "cell_type": "markdown",
   "metadata": {},
   "source": [
    "##### Exercises\n",
    "\n",
    "1. In your home, create a new directory (like `ex6`)\n",
    "2. cd into that directory\n",
    "3. create a file called \"hello.txt\" using `echo hallihallo > hello.txt`\n",
    "3. create another file using `echo \"text mit leerzeichen\" > lz.txt`\n",
    "3. create a csv file using `echo -e 'a,b,c\\n1,2,3\\n4,-2,3' > x1.csv`\n",
    "3. print out contents, to see if it worked\n",
    "4. create copy of them, \"hallo2.txt\", \"hallo3.txt\", \"lz1.txt\", \"lz2.txt\", \"x2.csv\" \n",
    "5. rename \"hallo2.txt\" to \"hallo3.txt\"\n",
    "5. create a subdirectory `d1`\n",
    "6. create a subdirectory `d2`\n",
    "8. copy all files having a \"2\" in their name into the d2 subdirectory\n",
    "8. copy `d2` and all it's content to `d3` (with one command, look up `cp --help`)\n",
    "9. move all csv files into the `d1` subdirectory \n",
    "11. delete the `d2` directory and all it's content\n",
    "12. concatenate content of all .txt files into one file "
   ]
  },
  {
   "cell_type": "markdown",
   "metadata": {},
   "source": [
    "### Text processing\n",
    "\n",
    "Working with text files\n",
    "* `comm` ... compare text files line by line\n",
    "* `sort` ... sort text files \n",
    "* `split` ... split text file into equally large pieces  \n",
    "* `uniq` ... remove duplicate lines in text files \n",
    "* `wc` ... count character, words, lines\n",
    "* `grep`... search for patterns in files, print lines that match"
   ]
  },
  {
   "cell_type": "markdown",
   "metadata": {},
   "source": [
    "#### Simple stuff with grep\n",
    "\n",
    "`grep PATTERN filename` ... prints all lines that contain PATTERN\n",
    "\n",
    "grep patters are [regular expressions](https://en.wikipedia.org/wiki/Regular_expression) - very useful in all kinds of text processing!\n",
    "\n",
    "```\n",
    "grep particular coin-license.txt\n",
    "from and are distributed by that particular Contributor. A\n",
    "fitness for a particular purpose;\n",
    "```\n"
   ]
  },
  {
   "cell_type": "markdown",
   "metadata": {},
   "source": [
    "#### Example with grep and pipes\n",
    "\n",
    "all files, long format: `ls -l`\n",
    "\n",
    "```\n",
    "oliver@DESKTOP-FJO24BH:~$ ls -l\n",
    "total 28\n",
    "drwxr-xr-x 1 oliver oliver  4096 Feb 12 21:44 Picat\n",
    "-rw-rw-rw- 1 oliver oliver  2664 Dec 19  2019 Untitled.ipynb\n",
    "-rw-r--r-- 1 oliver oliver 11415 Dec 15  2019 coin-license.txt\n",
    "drwxrwxr-x 1 oliver oliver  4096 Oct 15  2019 dlib-19.18\n",
    "drwxrwxrwx 1 oliver oliver  4096 Oct 27  2019 dlib-example\n",
    "drwxrwxrwx 1 oliver oliver  4096 Jun 24  2019 fastText-0.2.0\n",
    "-rw-rw-r-- 1 oliver oliver  1278 Aug 11  2014 gecode-license.txt\n",
    "-rwxr-xr-x 1 oliver oliver   281 Nov 23  2015 gecode.ampl\n",
    "drwxr-xr-x 1 oliver oliver  4096 Jul 30  2020 nltk_data\n",
    "drwxrwxrwx 1 oliver oliver  4096 Oct 27  2019 proj\n",
    "drwxrwxrwx 1 oliver oliver  4096 Sep 15  2019 raster\n",
    "drwxr-xr-x 1 oliver oliver  4096 Jul 31  2020 scikit_learn_data\n",
    "-rw-r--r-- 1 oliver oliver  4252 Jan 11  2020 trek.dump\n",
    "-rw-r--r-- 1 oliver oliver    19 Mar 16 22:43 x1.csv\n",
    "-rw-r--r-- 1 oliver oliver    22 Mar 16 22:20 x1.txt\n",
    "```\n",
    "\n",
    "all files that were changed in December?\n",
    "\n",
    "```\n",
    "oliver@DESKTOP-FJO24BH:~$ ls -l | grep Dec\n",
    "-rw-rw-rw- 1 oliver oliver  2664 Dec 19  2019 Untitled.ipynb\n",
    "-rw-r--r-- 1 oliver oliver 11415 Dec 15  2019 coin-license.txt\n",
    "```"
   ]
  },
  {
   "cell_type": "markdown",
   "metadata": {},
   "source": [
    "### Doing more real stuff on the command line\n",
    "\n",
    "Getting stuff from the internet\n",
    "* `wget` ... download a file from the internet (simple)\n",
    "* `curl` ... download data from the internet (more powerful, more complicated)\n",
    "\n",
    "Getting stuff done\n",
    "* `sudo` ... execute command with superuser permissions (when you want to install something, or change system settings)\n",
    "\n",
    "![sudo](sudo.jpg)"
   ]
  },
  {
   "cell_type": "markdown",
   "metadata": {},
   "source": [
    "#### Exercise\n",
    "\n",
    "1. download Heines Wintermärchen: https://www.deutschestextarchiv.de/book/download_txt/heine_wintermaehrchen1_1844\n",
    "2. look into the text, using `more`\n",
    "3. how many characters, words, lines? (use `wc`)\n",
    "3. Show lines containing \"Hamburg\"\n",
    "4. How many lines contain \"Lied\"? (use combination of `grep` and `wc`)\n",
    "4. How often does \"Lied\" occur? \n",
    "4. How often does \"Lied\" occur as a single word (not as part of another word, like \"Lieder\"?) \n"
   ]
  },
  {
   "cell_type": "markdown",
   "metadata": {},
   "source": [
    "### Editor: nano\n",
    "\n",
    "Sometimes, you will have to edit a text file, but all you have \n",
    "is a console. No GUI, no Word, no Notepad++, no VSCode. \n",
    "\n",
    "`nano` is a simple text editor for the command line.\n",
    "\n",
    "- use cursor keys to move around\n",
    "- just type your text\n",
    "- `^O` ... save\n",
    "- `^X` ... exit\n",
    "\n",
    "#### Exercise\n",
    "\n",
    "- take one of the text files and play with nano"
   ]
  },
  {
   "cell_type": "markdown",
   "metadata": {},
   "source": [
    "### Editor: vi(m)\n",
    "\n",
    "`vi` or `vim` is another editor for the command line. Available on every unix system. Extremely powerful, if you know how to use it.\n",
    "\n",
    "There are thousands of cheat sheets available, e.g. https://ryanstutorials.net/linuxtutorial/cheatsheetvi.php\n",
    "\n",
    "__Normal mode__: \n",
    "- move cursor with arrow keys\n",
    "- save with :w\n",
    "- quit with :q\n",
    "- both together with :wq or :x\n",
    "- delete a character: x\n",
    "- delete complete line: dd\n",
    "- go to insert mode: i (insert at current position), A (append at end of line)\n",
    "\n",
    "__Insert mode__:\n",
    "- use keys\n",
    "- press `ESC` to go back to normal mode\n",
    "\n",
    "\n"
   ]
  },
  {
   "cell_type": "markdown",
   "metadata": {},
   "source": [
    "### Shell scripts"
   ]
  },
  {
   "cell_type": "markdown",
   "metadata": {},
   "source": [
    "- in a second part."
   ]
  },
  {
   "cell_type": "markdown",
   "metadata": {},
   "source": [
    "### To know more\n",
    "\n",
    "* https://missing.csail.mit.edu/"
   ]
  },
  {
   "cell_type": "markdown",
   "metadata": {},
   "source": [
    "## Windows\n",
    "\n",
    "#### WSL (WIndows Subsystem for Linux)\n",
    "\n",
    "#### DOS Box\n",
    "\n",
    "#### Powershell"
   ]
  },
  {
   "cell_type": "markdown",
   "metadata": {},
   "source": [
    "## Appendix: Online shells\n",
    "\n",
    "- https://itsfoss.com/online-linux-terminals/\n",
    "- https://www.onlinegdb.com/\n",
    "- https://copy.sh/v86/?profile=linux26\n",
    "  - diverse unix/windows, funktioniert auch vom PAG Netz aus\n",
    "  - leider nur engl. Tastatur \n",
    "- https://bellard.org/jslinux/vm.html?url=alpine-x86.cfg&mem=192\n",
    "  - funktioniert von PAG aus\n",
    "  - deutsche Tastatur\n",
    "  - DOS und Linux\n",
    "- https://bellard.org/jslinux/vm.html?url=freedos.cfg&mem=64&graphic=1&w=720&h=400\n",
    "- https://www.tutorialspoint.com/codingground.htm"
   ]
  },
  {
   "cell_type": "code",
   "execution_count": null,
   "metadata": {},
   "outputs": [],
   "source": []
  }
 ],
 "metadata": {
  "kernelspec": {
   "display_name": "Python 3",
   "language": "python",
   "name": "python3"
  },
  "language_info": {
   "codemirror_mode": {
    "name": "ipython",
    "version": 3
   },
   "file_extension": ".py",
   "mimetype": "text/x-python",
   "name": "python",
   "nbconvert_exporter": "python",
   "pygments_lexer": "ipython3",
   "version": "3.8.4"
  }
 },
 "nbformat": 4,
 "nbformat_minor": 4
}
