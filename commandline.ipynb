{
 "cells": [
  {
   "cell_type": "markdown",
   "metadata": {},
   "source": [
    "# Working with the Shell\n",
    "\n",
    "\n",
    "based on https://missing.csail.mit.edu/\n",
    "\n",
    "### online shells\n",
    "\n",
    "- https://itsfoss.com/online-linux-terminals/\n",
    "- https://www.onlinegdb.com/\n",
    "- https://copy.sh/v86/?profile=linux26\n",
    "- https://bellard.org/jslinux/vm.html?url=alpine-x86.cfg&mem=192\n",
    "- https://bellard.org/jslinux/vm.html?url=freedos.cfg&mem=64&graphic=1&w=720&h=400\n",
    "- https://www.tutorialspoint.com/codingground.htm"
   ]
  },
  {
   "cell_type": "markdown",
   "metadata": {},
   "source": [
    "## Unix Systems (POSIX)\n",
    "\n",
    "- Linux\n",
    "- Apple/Mac\n",
    "- Raspberry Pi"
   ]
  },
  {
   "cell_type": "markdown",
   "metadata": {},
   "source": [
    "### Basic Terms\n",
    "\n",
    "A __terminal__ is a program that offers a window with a command line.\n",
    "\n",
    "A __shell__ is a program that lets the user enter commands \n",
    "\n",
    "shell prompt\n",
    "\n",
    "![lala](terminal.jpg)"
   ]
  },
  {
   "cell_type": "markdown",
   "metadata": {},
   "source": []
  },
  {
   "cell_type": "markdown",
   "metadata": {},
   "source": [
    "### Basics\n",
    "\n",
    "#### Navigating in the file system\n",
    "\n",
    "/\n",
    "~\n",
    "pwd, ls, cd\n",
    "\n",
    "#### Working on files\n",
    "\n",
    "cp, vm, rm\n",
    "getting help: -h, man\n",
    "\n",
    "####  Shell basics\n",
    "\n",
    "date\n",
    "echo\n",
    "cat\n",
    "redirections >, >>, < |\n",
    "\n",
    "#### useful commands\n",
    "\n",
    "cat, comm, comp expand heat tail sort split uniq wc \n",
    "curl wget gdrive ffmpeg \n",
    "\n",
    "#### vi\n",
    "\n",
    "\n",
    "#### Shell scripts"
   ]
  },
  {
   "cell_type": "markdown",
   "metadata": {},
   "source": [
    "oliver@DESKTOP-FJO24BH:~$"
   ]
  },
  {
   "cell_type": "code",
   "execution_count": null,
   "metadata": {},
   "outputs": [],
   "source": []
  }
 ],
 "metadata": {
  "kernelspec": {
   "display_name": "Python 3",
   "language": "python",
   "name": "python3"
  },
  "language_info": {
   "codemirror_mode": {
    "name": "ipython",
    "version": 3
   },
   "file_extension": ".py",
   "mimetype": "text/x-python",
   "name": "python",
   "nbconvert_exporter": "python",
   "pygments_lexer": "ipython3",
   "version": "3.8.4"
  }
 },
 "nbformat": 4,
 "nbformat_minor": 4
}
